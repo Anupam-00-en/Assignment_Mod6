{
 "cells": [
  {
   "cell_type": "markdown",
   "id": "527c9a80",
   "metadata": {},
   "source": [
    "# H1: this is h1 "
   ]
  },
  {
   "cell_type": "markdown",
   "id": "e3d08636",
   "metadata": {},
   "source": [
    "In this notebook, Data Science Tools and Ecosystem are summarized."
   ]
  },
  {
   "cell_type": "markdown",
   "id": "4f16abe8",
   "metadata": {},
   "source": [
    "In this notebook, Data Science Tools and Ecosystem are summarized."
   ]
  },
  {
   "cell_type": "markdown",
   "id": "c1baa1f4",
   "metadata": {},
   "source": [
    "<ol>Some of the popular languages that Data Scientists use are:\n",
    "    <li>Python</li>\n",
    "    <li>R</li>\n",
    "    <li>SQL</li>\n",
    "    <li>Java</li></ol>"
   ]
  },
  {
   "cell_type": "markdown",
   "id": "bc153968",
   "metadata": {},
   "source": [
    "<ol>Some of the commonly used libraries used by Data Scientists include:\n",
    "    <li>Numpy</li>\n",
    "    <li>Panda</li>\n",
    "    <li>TensorFlow</li>\n",
    "    <li>Keras</li></ol>"
   ]
  },
  {
   "cell_type": "markdown",
   "id": "5c8cd0ec",
   "metadata": {},
   "source": [
    "|Data Science Tools|\n",
    "|--|\n",
    "|Spark|\n",
    "|Hadoop|\n",
    "|MATLAB|\n",
    "|MySQL|"
   ]
  },
  {
   "cell_type": "markdown",
   "id": "118cf8b9",
   "metadata": {},
   "source": [
    "### H3: Below are a few examples of evaluating arithmetic expressions in Python"
   ]
  },
  {
   "cell_type": "code",
   "execution_count": 3,
   "id": "a4dac7f0",
   "metadata": {},
   "outputs": [
    {
     "data": {
      "text/plain": [
       "17"
      ]
     },
     "execution_count": 3,
     "metadata": {},
     "output_type": "execute_result"
    }
   ],
   "source": [
    "#this a simple arithmetic expression to mutiply then add integers\n",
    "(3*4)+5"
   ]
  },
  {
   "cell_type": "code",
   "execution_count": 4,
   "id": "1462eff2",
   "metadata": {},
   "outputs": [
    {
     "name": "stdout",
     "output_type": "stream",
     "text": [
      "3.3333333333333335\n"
     ]
    }
   ],
   "source": [
    "#This will convert 200 minutes to hours by diving by 60\n",
    "min = 200\n",
    "hours = min/60\n",
    "print(hours)"
   ]
  },
  {
   "cell_type": "markdown",
   "id": "2bb5a1ba",
   "metadata": {},
   "source": [
    "<ul>Objectives:\n",
    "    <li>Languages used for data science</li>\n",
    "    <li>Librabries used for data science</li>\n",
    "    <li>tools used for data science</li>\n",
    "    <li>Calculations using Python code</li>\n",
    "    </ul>"
   ]
  },
  {
   "cell_type": "markdown",
   "id": "62140fcd",
   "metadata": {},
   "source": [
    "##  Author ;\n",
    "## Lakshmi Holla\n",
    "## Niveditha Pandith\n",
    "Anupam Rai\n"
   ]
  },
  {
   "cell_type": "code",
   "execution_count": null,
   "id": "5b06dcf2",
   "metadata": {},
   "outputs": [],
   "source": []
  }
 ],
 "metadata": {
  "kernelspec": {
   "display_name": "Python 3 (ipykernel)",
   "language": "python",
   "name": "python3"
  },
  "language_info": {
   "codemirror_mode": {
    "name": "ipython",
    "version": 3
   },
   "file_extension": ".py",
   "mimetype": "text/x-python",
   "name": "python",
   "nbconvert_exporter": "python",
   "pygments_lexer": "ipython3",
   "version": "3.8.16"
  }
 },
 "nbformat": 4,
 "nbformat_minor": 5
}
